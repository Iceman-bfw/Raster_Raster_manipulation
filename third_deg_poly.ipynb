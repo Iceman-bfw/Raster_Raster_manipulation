{
 "cells": [
  {
   "cell_type": "code",
   "execution_count": 1,
   "metadata": {},
   "outputs": [
    {
     "name": "stdout",
     "output_type": "stream",
     "text": [
      "[[3710.08498 3687.7598  3665.52428 ...    4.90028    4.95004    5.     ]\n",
      " [3710.08498 3687.7598  3665.52428 ...    4.90028    4.95004    5.     ]\n",
      " [3710.08498 3687.7598  3665.52428 ...    4.90028    4.95004    5.     ]\n",
      " ...\n",
      " [3710.08498 3687.7598  3665.52428 ...    4.90028    4.95004    5.     ]\n",
      " [3710.08498 3687.7598  3665.52428 ...    4.90028    4.95004    5.     ]\n",
      " [3710.08498 3687.7598  3665.52428 ...    4.90028    4.95004    5.     ]]\n",
      "(900, 500)\n"
     ]
    }
   ],
   "source": [
    "import numpy as np\n",
    "import pandas as pd\n",
    "import matplotlib.pyplot as plt\n",
    "#z = .0000003*x[::-1]**3 + .00001*x[::-1]**2 - .005*x[::-1]+5 -this will be my shape \n",
    "# x should go to more than 2000\n",
    "# raster should have a 10 m cell size\n",
    "x = np.arange(0,5000, 10)\n",
    "#z = .00000003*x[::-1]**3 + .000001*x[::-1]**2 - .005*x[::-1]+5\n",
    "z = .00000003*x[::-1]**3 + .0000001*x[::-1]**2 - .005*x[::-1]+5\n",
    "\n",
    "raster = np.tile(z ,(900,1))\n",
    "print raster\n",
    "plt.plot(x, z)\n",
    "plt.show\n",
    "\n",
    "print raster.shape"
   ]
  },
  {
   "cell_type": "code",
   "execution_count": 2,
   "metadata": {},
   "outputs": [],
   "source": [
    "header = \"\"\"ncols 500 \n",
    "nrows 900 \n",
    "xllcorner 0.000000 \n",
    "yllcorner 0.000000 \n",
    "cellsize 10.000000  \n",
    "NODATA_value -9999.000000 \"\"\"\n",
    "np.savetxt(\"third_deg_dhm.asc\", raster, header=header, comments='')"
   ]
  },
  {
   "cell_type": "code",
   "execution_count": 3,
   "metadata": {},
   "outputs": [],
   "source": [
    "# now lets make release area! \n",
    "\n",
    "release = np.zeros((900,500))\n",
    "\n",
    "for x in range(140, 160,1):\n",
    "    for y in range(2, 10, 1):\n",
    "        release[x,y] = 1\n",
    "        \n",
    "for x in range(440, 460,1):\n",
    "    for y in range(2, 10, 1):\n",
    "        release[x,y] = 1\n",
    "        \n",
    "for x in range(740, 760,1):\n",
    "    for y in range(2, 10, 1):\n",
    "        release[x,y] = 1\n",
    "        \n"
   ]
  },
  {
   "cell_type": "code",
   "execution_count": 4,
   "metadata": {},
   "outputs": [
    {
     "data": {
      "text/plain": [
       "<function matplotlib.pyplot.show>"
      ]
     },
     "execution_count": 4,
     "metadata": {},
     "output_type": "execute_result"
    },
    {
     "data": {
      "image/png": "[encoded data removed]",
      "text/plain": [
       "<Figure size 432x288 with 1 Axes>"
      ]
     },
     "metadata": {
      "needs_background": "light"
     },
     "output_type": "display_data"
    }
   ],
   "source": [
    "plt.plot(release)\n",
    "plt.show"
   ]
  },
  {
   "cell_type": "code",
   "execution_count": 5,
   "metadata": {},
   "outputs": [],
   "source": [
    "np.savetxt(\"third_deg_release.asc\", release, fmt=\"%d\", header=header, comments='')"
   ]
  },
  {
   "cell_type": "code",
   "execution_count": 7,
   "metadata": {},
   "outputs": [
    {
     "name": "stdout",
     "output_type": "stream",
     "text": [
      "0.0\n"
     ]
    }
   ],
   "source": [
    "#----------------------------|\n",
    "#            a    b    c     |\n",
    "# x          a    b    c     |\n",
    "#            a    b    c     |  \n",
    "#            a    b    c     |   \n",
    "# x          a    b    c     |    \n",
    "#            a    b    c     |       \n",
    "#            a    b    c     |   \n",
    "# x          a    b    c     |          \n",
    "#            a    b    c     |\n",
    "#----------------------------|\n",
    "infra = np.zeros((900,500))\n",
    "infra[:,195:200] = 1 # a\n",
    "infra[:,295:300] = 1 # b\n",
    "infra[:,395:400] = 1 # c\n",
    "print infra[3,400]\n",
    "np.savetxt(\"third_deg_infra_111_con.asc\", infra, fmt=\"%d\", header=header, comments='')\n",
    "\n",
    "#----------------------------|\n",
    "#                            |\n",
    "# x          a    b    c     |\n",
    "#                            |  \n",
    "#                            |   \n",
    "# x          d    e    f     |    \n",
    "#                            |       \n",
    "#                            |   \n",
    "# x          g    h    i     |          \n",
    "#                            |\n",
    "#----------------------------|\n",
    "\n",
    "\n",
    "infra = np.zeros((900,500))\n",
    "infra[140:160,195:200] = 1 # a\n",
    "infra[140:160,295:300] = 2 # b\n",
    "infra[140:160,395:400] = 3 # c\n",
    "\n",
    "infra[440:460,195:200] = 3 # d\n",
    "infra[440:460,295:300] = 2 # e\n",
    "infra[440:460,395:400] = 1 # f\n",
    "\n",
    "infra[740:760,195:200] = 2 # g \n",
    "infra[740:760,295:300] = 1 # h\n",
    "infra[740:760,395:400] = 3 # i\n",
    "\n",
    "np.savetxt(\"third_deg_infra_111_frac.asc\", infra, fmt=\"%d\", header=header, comments='')\n"
   ]
  },
  {
   "cell_type": "code",
   "execution_count": null,
   "metadata": {},
   "outputs": [],
   "source": []
  },
  {
   "cell_type": "code",
   "execution_count": null,
   "metadata": {},
   "outputs": [],
   "source": []
  },
  {
   "cell_type": "code",
   "execution_count": null,
   "metadata": {},
   "outputs": [],
   "source": []
  }
 ],
 "metadata": {
  "kernelspec": {
   "display_name": "base",
   "language": "python",
   "name": "base"
  },
  "language_info": {
   "codemirror_mode": {
    "name": "ipython",
    "version": 2
   },
   "file_extension": ".py",
   "mimetype": "text/x-python",
   "name": "python",
   "nbconvert_exporter": "python",
   "pygments_lexer": "ipython2",
   "version": "2.7.15"
  }
 },
 "nbformat": 4,
 "nbformat_minor": 2
}
