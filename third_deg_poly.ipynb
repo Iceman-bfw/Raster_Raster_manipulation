{
 "cells": [
  {
   "cell_type": "code",
   "execution_count": 54,
   "metadata": {},
   "outputs": [
    {
     "name": "stdout",
     "output_type": "stream",
     "text": [
      "[[3710.08498 3687.7598  3665.52428 ...    4.90028    4.95004    5.     ]\n",
      " [3710.08498 3687.7598  3665.52428 ...    4.90028    4.95004    5.     ]\n",
      " [3710.08498 3687.7598  3665.52428 ...    4.90028    4.95004    5.     ]\n",
      " ...\n",
      " [3710.08498 3687.7598  3665.52428 ...    4.90028    4.95004    5.     ]\n",
      " [3710.08498 3687.7598  3665.52428 ...    4.90028    4.95004    5.     ]\n",
      " [3710.08498 3687.7598  3665.52428 ...    4.90028    4.95004    5.     ]]\n",
      "1345.107574229721 1329.9324063906015 1229.577784765584 1221.1290048985652 1158.9553358769895 1153.2298681359252\n"
     ]
    },
    {
     "data": {
      "image/png": "[encoded data removed]",
      "text/plain": [
       "<Figure size 432x288 with 1 Axes>"
      ]
     },
     "metadata": {
      "needs_background": "light"
     },
     "output_type": "display_data"
    }
   ],
   "source": [
    "import numpy as np\n",
    "import pandas as pd\n",
    "import matplotlib.pyplot as plt\n",
    "#z = .0000003*x[::-1]**3 + .00001*x[::-1]**2 - .005*x[::-1]+5 -this will be my shape \n",
    "# x should go to more than 2000\n",
    "# raster should have a 10 m cell size\n",
    "x = np.arange(0,5000, 10)\n",
    "#z = .00000003*x[::-1]**3 + .000001*x[::-1]**2 - .005*x[::-1]+5\n",
    "z = .00000003*x[::-1]**3 + .0000001*x[::-1]**2 - .005*x[::-1]+5\n",
    "\n",
    "##########fonnbu slope\n",
    "a= -8.535E-8\n",
    "b= .00055\n",
    "c= -1.125\n",
    "d= 1568.8\n",
    "fonnbu_3dp = a*x**3+ b*x**2 + c*x +d\n",
    "############\n",
    "fonnbu_power = 3245.741*(x+150)**(-.1758)\n",
    "raster = np.tile(z ,(900,1))\n",
    "print raster\n",
    "#plt.plot(x, z)\n",
    "#plt.plot(x,fonnbu_3dp)\n",
    "plt.plot(x,fonnbu_power)\n",
    "plt.show\n",
    "print fonnbu_power[0],fonnbu_power[1],fonnbu_power[10],fonnbu_power[11],fonnbu_power[20],fonnbu_power[21]"
   ]
  },
  {
   "cell_type": "code",
   "execution_count": 56,
   "metadata": {},
   "outputs": [],
   "source": [
    "header = \"\"\"ncols 500 \n",
    "nrows 900 \n",
    "xllcorner 0.000000 \n",
    "yllcorner 0.000000 \n",
    "cellsize 10.000000  \n",
    "NODATA_value -9999.000000 \"\"\"\n",
    "np.savetxt(\"Fonnbu_dhm.asc\", raster, header=header, comments='')"
   ]
  },
  {
   "cell_type": "code",
   "execution_count": 57,
   "metadata": {},
   "outputs": [],
   "source": [
    "# now lets make release area! \n",
    "\n",
    "release = np.zeros((900,500))\n",
    "\n",
    "for x in range(140, 160,1):\n",
    "    for y in range(2, 10, 1):\n",
    "        release[x,y] = 1\n",
    "        \n",
    "for x in range(440, 460,1):\n",
    "    for y in range(2, 10, 1):\n",
    "        release[x,y] = 1\n",
    "        \n",
    "for x in range(740, 760,1):\n",
    "    for y in range(2, 10, 1):\n",
    "        release[x,y] = 1\n",
    "        \n"
   ]
  },
  {
   "cell_type": "code",
   "execution_count": 58,
   "metadata": {},
   "outputs": [
    {
     "data": {
      "text/plain": [
       "<function matplotlib.pyplot.show>"
      ]
     },
     "execution_count": 58,
     "metadata": {},
     "output_type": "execute_result"
    },
    {
     "data": {
      "image/png": "[encoded data removed]",
      "text/plain": [
       "<Figure size 432x288 with 1 Axes>"
      ]
     },
     "metadata": {
      "needs_background": "light"
     },
     "output_type": "display_data"
    }
   ],
   "source": [
    "plt.plot(release)\n",
    "plt.show"
   ]
  },
  {
   "cell_type": "code",
   "execution_count": 59,
   "metadata": {},
   "outputs": [],
   "source": [
    "np.savetxt(\"third_deg_release.asc\", release, fmt=\"%d\", header=header, comments='')"
   ]
  },
  {
   "cell_type": "code",
   "execution_count": 60,
   "metadata": {},
   "outputs": [
    {
     "name": "stdout",
     "output_type": "stream",
     "text": [
      "0.0\n"
     ]
    }
   ],
   "source": [
    "#----------------------------|\n",
    "#            a    b    c     |\n",
    "# x          a    b    c     |\n",
    "#            a    b    c     |  \n",
    "#            a    b    c     |   \n",
    "# x          a    b    c     |    \n",
    "#            a    b    c     |       \n",
    "#            a    b    c     |   \n",
    "# x          a    b    c     |          \n",
    "#            a    b    c     |\n",
    "#----------------------------|\n",
    "infra = np.zeros((900,500))\n",
    "infra[:,195:200] = 3 # a\n",
    "infra[:,295:300] = 2 # b\n",
    "infra[:,395:400] = 1 # c\n",
    "print infra[3,400]\n",
    "np.savetxt(\"third_deg_infra_321_con.asc\", infra, fmt=\"%d\", header=header, comments='')\n",
    "\n",
    "#----------------------------|\n",
    "#                            |\n",
    "# x          a    b    c     |\n",
    "#                            |  \n",
    "#                            |   \n",
    "# x          d    e    f     |    \n",
    "#                            |       \n",
    "#                            |   \n",
    "# x          g    h    i     |          \n",
    "#                            |\n",
    "#----------------------------|\n",
    "\n",
    "\n",
    "infra = np.zeros((900,500))\n",
    "infra[140:160,195:200] = 1 # a\n",
    "infra[140:160,295:300] = 2 # b\n",
    "infra[140:160,395:400] = 1 # c\n",
    "\n",
    "infra[440:460,195:200] = 3 # d\n",
    "infra[440:460,295:300] = 2 # e\n",
    "infra[440:460,395:400] = 1 # f\n",
    "\n",
    "infra[740:760,195:200] = 3 # g \n",
    "infra[740:760,295:300] = 1 # h\n",
    "infra[740:760,395:400] = 2 # i\n",
    "\n",
    "np.savetxt(\"infra_121_321_312.asc\", infra, fmt=\"%d\", header=header, comments='')\n"
   ]
  },
  {
   "cell_type": "code",
   "execution_count": null,
   "metadata": {},
   "outputs": [],
   "source": []
  },
  {
   "cell_type": "code",
   "execution_count": null,
   "metadata": {},
   "outputs": [],
   "source": []
  },
  {
   "cell_type": "code",
   "execution_count": null,
   "metadata": {},
   "outputs": [],
   "source": []
  }
 ],
 "metadata": {
  "kernelspec": {
   "display_name": "base",
   "language": "python",
   "name": "base"
  },
  "language_info": {
   "codemirror_mode": {
    "name": "ipython",
    "version": 2
   },
   "file_extension": ".py",
   "mimetype": "text/x-python",
   "name": "python",
   "nbconvert_exporter": "python",
   "pygments_lexer": "ipython2",
   "version": "2.7.15"
  }
 },
 "nbformat": 4,
 "nbformat_minor": 2
}
